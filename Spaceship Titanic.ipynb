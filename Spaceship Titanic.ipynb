{
 "cells": [
  {
   "cell_type": "markdown",
   "id": "88cdf207-7f71-48c9-ab94-b8d00a631c12",
   "metadata": {},
   "source": [
    "### Desafio: https://www.kaggle.com/competitions/spaceship-titanic/overview/evaluation"
   ]
  },
  {
   "cell_type": "code",
   "execution_count": 1,
   "id": "4ec18773-d038-4099-8081-b466d6587458",
   "metadata": {},
   "outputs": [],
   "source": [
    "# Importando pandas\n",
    "import pandas as pd"
   ]
  },
  {
   "cell_type": "code",
   "execution_count": 2,
   "id": "3c125c99-e4f5-4992-8b01-254310c9d0b2",
   "metadata": {},
   "outputs": [],
   "source": [
    "# Lendo a base de treino\n",
    "train_df = pd.read_csv(\"train.csv\")"
   ]
  },
  {
   "cell_type": "code",
   "execution_count": 3,
   "id": "41aee43f-19c1-4df1-ba61-0947b63a7010",
   "metadata": {},
   "outputs": [
    {
     "data": {
      "text/html": [
       "<div>\n",
       "<style scoped>\n",
       "    .dataframe tbody tr th:only-of-type {\n",
       "        vertical-align: middle;\n",
       "    }\n",
       "\n",
       "    .dataframe tbody tr th {\n",
       "        vertical-align: top;\n",
       "    }\n",
       "\n",
       "    .dataframe thead th {\n",
       "        text-align: right;\n",
       "    }\n",
       "</style>\n",
       "<table border=\"1\" class=\"dataframe\">\n",
       "  <thead>\n",
       "    <tr style=\"text-align: right;\">\n",
       "      <th></th>\n",
       "      <th>PassengerId</th>\n",
       "      <th>HomePlanet</th>\n",
       "      <th>CryoSleep</th>\n",
       "      <th>Cabin</th>\n",
       "      <th>Destination</th>\n",
       "      <th>Age</th>\n",
       "      <th>VIP</th>\n",
       "      <th>RoomService</th>\n",
       "      <th>FoodCourt</th>\n",
       "      <th>ShoppingMall</th>\n",
       "      <th>Spa</th>\n",
       "      <th>VRDeck</th>\n",
       "      <th>Name</th>\n",
       "      <th>Transported</th>\n",
       "    </tr>\n",
       "  </thead>\n",
       "  <tbody>\n",
       "    <tr>\n",
       "      <th>0</th>\n",
       "      <td>0001_01</td>\n",
       "      <td>Europa</td>\n",
       "      <td>False</td>\n",
       "      <td>B/0/P</td>\n",
       "      <td>TRAPPIST-1e</td>\n",
       "      <td>39.0</td>\n",
       "      <td>False</td>\n",
       "      <td>0.0</td>\n",
       "      <td>0.0</td>\n",
       "      <td>0.0</td>\n",
       "      <td>0.0</td>\n",
       "      <td>0.0</td>\n",
       "      <td>Maham Ofracculy</td>\n",
       "      <td>False</td>\n",
       "    </tr>\n",
       "    <tr>\n",
       "      <th>1</th>\n",
       "      <td>0002_01</td>\n",
       "      <td>Earth</td>\n",
       "      <td>False</td>\n",
       "      <td>F/0/S</td>\n",
       "      <td>TRAPPIST-1e</td>\n",
       "      <td>24.0</td>\n",
       "      <td>False</td>\n",
       "      <td>109.0</td>\n",
       "      <td>9.0</td>\n",
       "      <td>25.0</td>\n",
       "      <td>549.0</td>\n",
       "      <td>44.0</td>\n",
       "      <td>Juanna Vines</td>\n",
       "      <td>True</td>\n",
       "    </tr>\n",
       "    <tr>\n",
       "      <th>2</th>\n",
       "      <td>0003_01</td>\n",
       "      <td>Europa</td>\n",
       "      <td>False</td>\n",
       "      <td>A/0/S</td>\n",
       "      <td>TRAPPIST-1e</td>\n",
       "      <td>58.0</td>\n",
       "      <td>True</td>\n",
       "      <td>43.0</td>\n",
       "      <td>3576.0</td>\n",
       "      <td>0.0</td>\n",
       "      <td>6715.0</td>\n",
       "      <td>49.0</td>\n",
       "      <td>Altark Susent</td>\n",
       "      <td>False</td>\n",
       "    </tr>\n",
       "  </tbody>\n",
       "</table>\n",
       "</div>"
      ],
      "text/plain": [
       "  PassengerId HomePlanet CryoSleep  Cabin  Destination   Age    VIP  \\\n",
       "0     0001_01     Europa     False  B/0/P  TRAPPIST-1e  39.0  False   \n",
       "1     0002_01      Earth     False  F/0/S  TRAPPIST-1e  24.0  False   \n",
       "2     0003_01     Europa     False  A/0/S  TRAPPIST-1e  58.0   True   \n",
       "\n",
       "   RoomService  FoodCourt  ShoppingMall     Spa  VRDeck             Name  \\\n",
       "0          0.0        0.0           0.0     0.0     0.0  Maham Ofracculy   \n",
       "1        109.0        9.0          25.0   549.0    44.0     Juanna Vines   \n",
       "2         43.0     3576.0           0.0  6715.0    49.0    Altark Susent   \n",
       "\n",
       "   Transported  \n",
       "0        False  \n",
       "1         True  \n",
       "2        False  "
      ]
     },
     "execution_count": 3,
     "metadata": {},
     "output_type": "execute_result"
    }
   ],
   "source": [
    "# Vizualizando a base\n",
    "train_df.head(3)"
   ]
  },
  {
   "cell_type": "code",
   "execution_count": 4,
   "id": "912eac8f-c1ec-470f-be8e-789ae9df3ea7",
   "metadata": {},
   "outputs": [
    {
     "name": "stdout",
     "output_type": "stream",
     "text": [
      "<class 'pandas.core.frame.DataFrame'>\n",
      "RangeIndex: 8693 entries, 0 to 8692\n",
      "Data columns (total 14 columns):\n",
      " #   Column        Non-Null Count  Dtype  \n",
      "---  ------        --------------  -----  \n",
      " 0   PassengerId   8693 non-null   object \n",
      " 1   HomePlanet    8492 non-null   object \n",
      " 2   CryoSleep     8476 non-null   object \n",
      " 3   Cabin         8494 non-null   object \n",
      " 4   Destination   8511 non-null   object \n",
      " 5   Age           8514 non-null   float64\n",
      " 6   VIP           8490 non-null   object \n",
      " 7   RoomService   8512 non-null   float64\n",
      " 8   FoodCourt     8510 non-null   float64\n",
      " 9   ShoppingMall  8485 non-null   float64\n",
      " 10  Spa           8510 non-null   float64\n",
      " 11  VRDeck        8505 non-null   float64\n",
      " 12  Name          8493 non-null   object \n",
      " 13  Transported   8693 non-null   bool   \n",
      "dtypes: bool(1), float64(6), object(7)\n",
      "memory usage: 891.5+ KB\n"
     ]
    }
   ],
   "source": [
    "# Olhando as informações\n",
    "train_df.info()"
   ]
  },
  {
   "cell_type": "code",
   "execution_count": 5,
   "id": "c398b982-6a70-4993-b870-1a5f525a14dc",
   "metadata": {},
   "outputs": [
    {
     "data": {
      "text/plain": [
       "CryoSleep       217\n",
       "ShoppingMall    208\n",
       "VIP             203\n",
       "HomePlanet      201\n",
       "Name            200\n",
       "Cabin           199\n",
       "VRDeck          188\n",
       "FoodCourt       183\n",
       "Spa             183\n",
       "Destination     182\n",
       "RoomService     181\n",
       "Age             179\n",
       "PassengerId       0\n",
       "Transported       0\n",
       "dtype: int64"
      ]
     },
     "execution_count": 5,
     "metadata": {},
     "output_type": "execute_result"
    }
   ],
   "source": [
    "# Verificando os dados nulos\n",
    "train_df.isnull().sum().sort_values(ascending=False)"
   ]
  },
  {
   "cell_type": "markdown",
   "id": "0bd35ea7-f9da-4016-8008-60a8a9e8bc2e",
   "metadata": {},
   "source": [
    "### CryoSleep "
   ]
  },
  {
   "cell_type": "code",
   "execution_count": 6,
   "id": "4386d33f-844b-4ced-ab77-578be2b29917",
   "metadata": {},
   "outputs": [
    {
     "data": {
      "text/plain": [
       "0       False\n",
       "1       False\n",
       "2       False\n",
       "3       False\n",
       "4       False\n",
       "        ...  \n",
       "8688    False\n",
       "8689     True\n",
       "8690    False\n",
       "8691    False\n",
       "8692    False\n",
       "Name: CryoSleep, Length: 8693, dtype: object"
      ]
     },
     "execution_count": 6,
     "metadata": {},
     "output_type": "execute_result"
    }
   ],
   "source": [
    "# Vendo do que se trata\n",
    "train_df[\"CryoSleep\"]"
   ]
  },
  {
   "cell_type": "code",
   "execution_count": 7,
   "id": "5eb3b061-d728-4992-83b3-806bcc360d0f",
   "metadata": {},
   "outputs": [],
   "source": [
    "# Preenchendo os valores nulos para false\n",
    "train_df[\"CryoSleep\"] = train_df[\"CryoSleep\"].fillna(False)"
   ]
  },
  {
   "cell_type": "markdown",
   "id": "ce54383d-0ae1-4602-8439-5309a2f7a93d",
   "metadata": {},
   "source": [
    "### ShoppingMall, FoodCourt, RoomService, Spa, VRDeck\n",
    "\n",
    "##### RoomService, FoodCourt, ShoppingMall, Spa, VRDeck - Valor cobrado pelo passageiro em cada uma das muitas comodidades de luxo da Nave Espacial Titanic .\n"
   ]
  },
  {
   "cell_type": "markdown",
   "id": "831b7489-3bdd-4672-b33c-f737a47e38c6",
   "metadata": {},
   "source": [
    "#### ShoppingMall"
   ]
  },
  {
   "cell_type": "code",
   "execution_count": 8,
   "id": "e6cca4df-84e8-4a4f-a4cc-ba1a56c7822e",
   "metadata": {},
   "outputs": [
    {
     "data": {
      "text/plain": [
       "0          0.0\n",
       "1         25.0\n",
       "2          0.0\n",
       "3        371.0\n",
       "4        151.0\n",
       "         ...  \n",
       "8688       0.0\n",
       "8689       0.0\n",
       "8690    1872.0\n",
       "8691       0.0\n",
       "8692       0.0\n",
       "Name: ShoppingMall, Length: 8693, dtype: float64"
      ]
     },
     "execution_count": 8,
     "metadata": {},
     "output_type": "execute_result"
    }
   ],
   "source": [
    "# Vendo do que se trata\n",
    "train_df[\"ShoppingMall\"]"
   ]
  },
  {
   "cell_type": "code",
   "execution_count": 9,
   "id": "ff548617-83bc-49ce-b553-8e8c6c4dd99e",
   "metadata": {},
   "outputs": [],
   "source": [
    "# Preenchendo pela média dos valores\n",
    "train_df[\"ShoppingMall\"] = train_df[\"ShoppingMall\"].fillna(train_df[\"ShoppingMall\"].mean())"
   ]
  },
  {
   "cell_type": "markdown",
   "id": "a03f650d-38e5-44de-95e6-21445f9ff61a",
   "metadata": {},
   "source": [
    "#### FoodCourt"
   ]
  },
  {
   "cell_type": "code",
   "execution_count": 10,
   "id": "2056f5d0-eda2-46d4-b39d-4ec3284461cf",
   "metadata": {},
   "outputs": [
    {
     "data": {
      "text/plain": [
       "0          0.0\n",
       "1          9.0\n",
       "2       3576.0\n",
       "3       1283.0\n",
       "4         70.0\n",
       "         ...  \n",
       "8688    6819.0\n",
       "8689       0.0\n",
       "8690       0.0\n",
       "8691    1049.0\n",
       "8692    4688.0\n",
       "Name: FoodCourt, Length: 8693, dtype: float64"
      ]
     },
     "execution_count": 10,
     "metadata": {},
     "output_type": "execute_result"
    }
   ],
   "source": [
    "# Vendo do que se trata\n",
    "train_df[\"FoodCourt\"]"
   ]
  },
  {
   "cell_type": "code",
   "execution_count": 11,
   "id": "39ac8c3a-f85d-43d3-a027-26d71cb89f6a",
   "metadata": {},
   "outputs": [],
   "source": [
    "# # Preenchendo pela média dos valores\n",
    "train_df[\"FoodCourt\"] = train_df[\"FoodCourt\"].fillna(train_df[\"FoodCourt\"].mean())"
   ]
  },
  {
   "cell_type": "markdown",
   "id": "3f98cc67-2e8a-43fe-996e-e4b5207d6739",
   "metadata": {},
   "source": [
    "#### RoomService"
   ]
  },
  {
   "cell_type": "code",
   "execution_count": 12,
   "id": "b8be033d-3c18-4d0a-83c2-3a233402b086",
   "metadata": {},
   "outputs": [
    {
     "data": {
      "text/plain": [
       "0         0.0\n",
       "1       109.0\n",
       "2        43.0\n",
       "3         0.0\n",
       "4       303.0\n",
       "        ...  \n",
       "8688      0.0\n",
       "8689      0.0\n",
       "8690      0.0\n",
       "8691      0.0\n",
       "8692    126.0\n",
       "Name: RoomService, Length: 8693, dtype: float64"
      ]
     },
     "execution_count": 12,
     "metadata": {},
     "output_type": "execute_result"
    }
   ],
   "source": [
    "# Vendo do que se trata\n",
    "train_df[\"RoomService\"]"
   ]
  },
  {
   "cell_type": "code",
   "execution_count": 13,
   "id": "721f2b94-6b6b-473f-b576-7c7fdca43ea1",
   "metadata": {},
   "outputs": [],
   "source": [
    "# Preenchendo pela média dos valores\n",
    "train_df[\"RoomService\"] = train_df[\"RoomService\"].fillna(train_df[\"RoomService\"].mean())"
   ]
  },
  {
   "cell_type": "markdown",
   "id": "3ca997e1-0170-46d0-836c-bb5e9748abe7",
   "metadata": {},
   "source": [
    "#### Spa"
   ]
  },
  {
   "cell_type": "code",
   "execution_count": 14,
   "id": "2458792d-3699-4e4a-879d-f63b932c4f9d",
   "metadata": {},
   "outputs": [
    {
     "data": {
      "text/plain": [
       "0          0.0\n",
       "1        549.0\n",
       "2       6715.0\n",
       "3       3329.0\n",
       "4        565.0\n",
       "         ...  \n",
       "8688    1643.0\n",
       "8689       0.0\n",
       "8690       1.0\n",
       "8691     353.0\n",
       "8692       0.0\n",
       "Name: Spa, Length: 8693, dtype: float64"
      ]
     },
     "execution_count": 14,
     "metadata": {},
     "output_type": "execute_result"
    }
   ],
   "source": [
    "# Vendo do que se trata\n",
    "train_df[\"Spa\"]"
   ]
  },
  {
   "cell_type": "code",
   "execution_count": 15,
   "id": "354a44c1-04fe-443e-a0a3-5fa1496ff717",
   "metadata": {},
   "outputs": [],
   "source": [
    "# Preenchendo pela média dos valores\n",
    "train_df[\"Spa\"] = train_df[\"Spa\"].fillna(train_df[\"Spa\"].mean())"
   ]
  },
  {
   "cell_type": "markdown",
   "id": "dd1f3018-ef44-4839-92a6-a4b6b4a113ee",
   "metadata": {},
   "source": [
    "#### VRDeck"
   ]
  },
  {
   "cell_type": "code",
   "execution_count": 16,
   "id": "ee6986a8-a1a6-455c-9b15-4887b24657cf",
   "metadata": {},
   "outputs": [
    {
     "data": {
      "text/plain": [
       "0          0.0\n",
       "1         44.0\n",
       "2         49.0\n",
       "3        193.0\n",
       "4          2.0\n",
       "         ...  \n",
       "8688      74.0\n",
       "8689       0.0\n",
       "8690       0.0\n",
       "8691    3235.0\n",
       "8692      12.0\n",
       "Name: VRDeck, Length: 8693, dtype: float64"
      ]
     },
     "execution_count": 16,
     "metadata": {},
     "output_type": "execute_result"
    }
   ],
   "source": [
    "# Vendo do que se trata\n",
    "train_df[\"VRDeck\"]"
   ]
  },
  {
   "cell_type": "code",
   "execution_count": 17,
   "id": "61f8de88-f55f-43a1-b328-dfcc2e6b2db9",
   "metadata": {},
   "outputs": [],
   "source": [
    "# Preenchendo pela média dos valores\n",
    "train_df[\"VRDeck\"] = train_df[\"VRDeck\"].fillna(train_df[\"VRDeck\"].mean())"
   ]
  },
  {
   "cell_type": "markdown",
   "id": "9259af98-814a-43bc-a422-321315e77051",
   "metadata": {},
   "source": [
    "### Name"
   ]
  },
  {
   "cell_type": "code",
   "execution_count": 18,
   "id": "58b04c47-cd4e-4296-8109-2f6ad5d3cf4e",
   "metadata": {},
   "outputs": [],
   "source": [
    "# Removendo a coluna\n",
    "train_df = train_df.drop([\"Name\"],axis=1)"
   ]
  },
  {
   "cell_type": "markdown",
   "id": "cbe92012-015d-4333-8ace-2e7967a8876b",
   "metadata": {},
   "source": [
    "### VIP"
   ]
  },
  {
   "cell_type": "code",
   "execution_count": 19,
   "id": "3d0e535b-5a03-4e9c-82cf-0cf9114bad75",
   "metadata": {},
   "outputs": [
    {
     "data": {
      "text/plain": [
       "0       False\n",
       "1       False\n",
       "2        True\n",
       "3       False\n",
       "4       False\n",
       "        ...  \n",
       "8688     True\n",
       "8689    False\n",
       "8690    False\n",
       "8691    False\n",
       "8692    False\n",
       "Name: VIP, Length: 8693, dtype: object"
      ]
     },
     "execution_count": 19,
     "metadata": {},
     "output_type": "execute_result"
    }
   ],
   "source": [
    "# Vendo do que se trata\n",
    "train_df[\"VIP\"]"
   ]
  },
  {
   "cell_type": "code",
   "execution_count": 20,
   "id": "751933c6-59e5-47f9-b386-fc8209100c41",
   "metadata": {},
   "outputs": [],
   "source": [
    "# Preenchendo os valores nulos para false\n",
    "train_df[\"VIP\"] = train_df[\"VIP\"].fillna(False)"
   ]
  },
  {
   "cell_type": "markdown",
   "id": "0c14c1c4-e0f3-4051-adfd-22289fbe00ee",
   "metadata": {},
   "source": [
    "### HomePlanet  "
   ]
  },
  {
   "cell_type": "code",
   "execution_count": 21,
   "id": "5e10c936-1ca5-406e-8e7a-cef3ea369477",
   "metadata": {},
   "outputs": [
    {
     "data": {
      "text/plain": [
       "0       Europa\n",
       "1        Earth\n",
       "2       Europa\n",
       "3       Europa\n",
       "4        Earth\n",
       "         ...  \n",
       "8688    Europa\n",
       "8689     Earth\n",
       "8690     Earth\n",
       "8691    Europa\n",
       "8692    Europa\n",
       "Name: HomePlanet, Length: 8693, dtype: object"
      ]
     },
     "execution_count": 21,
     "metadata": {},
     "output_type": "execute_result"
    }
   ],
   "source": [
    "# Vendo do que se trata\n",
    "train_df[\"HomePlanet\"]"
   ]
  },
  {
   "cell_type": "code",
   "execution_count": 22,
   "id": "a4e7219b-6de4-4ef6-8f0c-eb663b681148",
   "metadata": {},
   "outputs": [],
   "source": [
    "# Preenchendo pela moda dos valores\n",
    "train_df[\"HomePlanet\"] = train_df[\"HomePlanet\"].fillna(train_df[\"HomePlanet\"].mode()[0])"
   ]
  },
  {
   "cell_type": "markdown",
   "id": "07c1356c-e735-4b50-8794-179b88df6815",
   "metadata": {},
   "source": [
    "### Cabin "
   ]
  },
  {
   "cell_type": "code",
   "execution_count": 23,
   "id": "b761c384-7c0d-445f-ae78-5128e2487a44",
   "metadata": {},
   "outputs": [
    {
     "data": {
      "text/plain": [
       "0          B/0/P\n",
       "1          F/0/S\n",
       "2          A/0/S\n",
       "3          A/0/S\n",
       "4          F/1/S\n",
       "          ...   \n",
       "8688      A/98/P\n",
       "8689    G/1499/S\n",
       "8690    G/1500/S\n",
       "8691     E/608/S\n",
       "8692     E/608/S\n",
       "Name: Cabin, Length: 8693, dtype: object"
      ]
     },
     "execution_count": 23,
     "metadata": {},
     "output_type": "execute_result"
    }
   ],
   "source": [
    "# Vendo do que se trata\n",
    "train_df[\"Cabin\"]"
   ]
  },
  {
   "cell_type": "code",
   "execution_count": 24,
   "id": "e123d560-8bfe-4d98-99cf-652f3a1774e7",
   "metadata": {},
   "outputs": [],
   "source": [
    "# Preenchendo pela moda dos valores\n",
    "train_df[\"Cabin\"] = train_df[\"Cabin\"].fillna(train_df[\"Cabin\"].mode()[0])"
   ]
  },
  {
   "cell_type": "markdown",
   "id": "1f589957-0468-4ad8-aacd-a3382fa0fd02",
   "metadata": {},
   "source": [
    "### Destination    "
   ]
  },
  {
   "cell_type": "code",
   "execution_count": 25,
   "id": "2463375e-f43e-4c6b-9606-15fe8b6992b0",
   "metadata": {},
   "outputs": [
    {
     "data": {
      "text/plain": [
       "0         TRAPPIST-1e\n",
       "1         TRAPPIST-1e\n",
       "2         TRAPPIST-1e\n",
       "3         TRAPPIST-1e\n",
       "4         TRAPPIST-1e\n",
       "            ...      \n",
       "8688      55 Cancri e\n",
       "8689    PSO J318.5-22\n",
       "8690      TRAPPIST-1e\n",
       "8691      55 Cancri e\n",
       "8692      TRAPPIST-1e\n",
       "Name: Destination, Length: 8693, dtype: object"
      ]
     },
     "execution_count": 25,
     "metadata": {},
     "output_type": "execute_result"
    }
   ],
   "source": [
    "# Vendo do que se trata\n",
    "train_df[\"Destination\"]"
   ]
  },
  {
   "cell_type": "code",
   "execution_count": 26,
   "id": "96589716-ab78-45cf-8095-d85861a2883d",
   "metadata": {},
   "outputs": [],
   "source": [
    "# Preenchendo pela moda dos valores\n",
    "train_df[\"Destination\"] = train_df[\"Destination\"].fillna(train_df[\"Destination\"].mode()[0])"
   ]
  },
  {
   "cell_type": "code",
   "execution_count": 27,
   "id": "f4140b20-8ca3-4478-93e1-6b1894507eff",
   "metadata": {},
   "outputs": [],
   "source": [
    "# Preenchendo pela média dos valores\n",
    "train_df[\"Age\"] = train_df[\"Age\"].fillna(train_df[\"Age\"].mean())"
   ]
  },
  {
   "cell_type": "code",
   "execution_count": 28,
   "id": "f351b0f7-3647-4be7-898b-88566e45f4e4",
   "metadata": {},
   "outputs": [
    {
     "data": {
      "text/plain": [
       "PassengerId     0\n",
       "HomePlanet      0\n",
       "CryoSleep       0\n",
       "Cabin           0\n",
       "Destination     0\n",
       "Age             0\n",
       "VIP             0\n",
       "RoomService     0\n",
       "FoodCourt       0\n",
       "ShoppingMall    0\n",
       "Spa             0\n",
       "VRDeck          0\n",
       "Transported     0\n",
       "dtype: int64"
      ]
     },
     "execution_count": 28,
     "metadata": {},
     "output_type": "execute_result"
    }
   ],
   "source": [
    "# Verificando os dados nulos\n",
    "train_df.isnull().sum().sort_values(ascending=False)"
   ]
  },
  {
   "cell_type": "code",
   "execution_count": 29,
   "id": "694169fe-28c2-4d01-ba2b-24c8890fba51",
   "metadata": {},
   "outputs": [],
   "source": [
    "# Lendo a base de treino\n",
    "test_df = pd.read_csv(\"test.csv\")"
   ]
  },
  {
   "cell_type": "code",
   "execution_count": 30,
   "id": "a1eac306-0669-46e4-80a6-aa72352b3619",
   "metadata": {},
   "outputs": [
    {
     "data": {
      "text/html": [
       "<div>\n",
       "<style scoped>\n",
       "    .dataframe tbody tr th:only-of-type {\n",
       "        vertical-align: middle;\n",
       "    }\n",
       "\n",
       "    .dataframe tbody tr th {\n",
       "        vertical-align: top;\n",
       "    }\n",
       "\n",
       "    .dataframe thead th {\n",
       "        text-align: right;\n",
       "    }\n",
       "</style>\n",
       "<table border=\"1\" class=\"dataframe\">\n",
       "  <thead>\n",
       "    <tr style=\"text-align: right;\">\n",
       "      <th></th>\n",
       "      <th>PassengerId</th>\n",
       "      <th>HomePlanet</th>\n",
       "      <th>CryoSleep</th>\n",
       "      <th>Cabin</th>\n",
       "      <th>Destination</th>\n",
       "      <th>Age</th>\n",
       "      <th>VIP</th>\n",
       "      <th>RoomService</th>\n",
       "      <th>FoodCourt</th>\n",
       "      <th>ShoppingMall</th>\n",
       "      <th>Spa</th>\n",
       "      <th>VRDeck</th>\n",
       "      <th>Name</th>\n",
       "    </tr>\n",
       "  </thead>\n",
       "  <tbody>\n",
       "    <tr>\n",
       "      <th>0</th>\n",
       "      <td>0013_01</td>\n",
       "      <td>Earth</td>\n",
       "      <td>True</td>\n",
       "      <td>G/3/S</td>\n",
       "      <td>TRAPPIST-1e</td>\n",
       "      <td>27.0</td>\n",
       "      <td>False</td>\n",
       "      <td>0.0</td>\n",
       "      <td>0.0</td>\n",
       "      <td>0.0</td>\n",
       "      <td>0.0</td>\n",
       "      <td>0.0</td>\n",
       "      <td>Nelly Carsoning</td>\n",
       "    </tr>\n",
       "    <tr>\n",
       "      <th>1</th>\n",
       "      <td>0018_01</td>\n",
       "      <td>Earth</td>\n",
       "      <td>False</td>\n",
       "      <td>F/4/S</td>\n",
       "      <td>TRAPPIST-1e</td>\n",
       "      <td>19.0</td>\n",
       "      <td>False</td>\n",
       "      <td>0.0</td>\n",
       "      <td>9.0</td>\n",
       "      <td>0.0</td>\n",
       "      <td>2823.0</td>\n",
       "      <td>0.0</td>\n",
       "      <td>Lerome Peckers</td>\n",
       "    </tr>\n",
       "    <tr>\n",
       "      <th>2</th>\n",
       "      <td>0019_01</td>\n",
       "      <td>Europa</td>\n",
       "      <td>True</td>\n",
       "      <td>C/0/S</td>\n",
       "      <td>55 Cancri e</td>\n",
       "      <td>31.0</td>\n",
       "      <td>False</td>\n",
       "      <td>0.0</td>\n",
       "      <td>0.0</td>\n",
       "      <td>0.0</td>\n",
       "      <td>0.0</td>\n",
       "      <td>0.0</td>\n",
       "      <td>Sabih Unhearfus</td>\n",
       "    </tr>\n",
       "  </tbody>\n",
       "</table>\n",
       "</div>"
      ],
      "text/plain": [
       "  PassengerId HomePlanet CryoSleep  Cabin  Destination   Age    VIP  \\\n",
       "0     0013_01      Earth      True  G/3/S  TRAPPIST-1e  27.0  False   \n",
       "1     0018_01      Earth     False  F/4/S  TRAPPIST-1e  19.0  False   \n",
       "2     0019_01     Europa      True  C/0/S  55 Cancri e  31.0  False   \n",
       "\n",
       "   RoomService  FoodCourt  ShoppingMall     Spa  VRDeck             Name  \n",
       "0          0.0        0.0           0.0     0.0     0.0  Nelly Carsoning  \n",
       "1          0.0        9.0           0.0  2823.0     0.0   Lerome Peckers  \n",
       "2          0.0        0.0           0.0     0.0     0.0  Sabih Unhearfus  "
      ]
     },
     "execution_count": 30,
     "metadata": {},
     "output_type": "execute_result"
    }
   ],
   "source": [
    "# Vizualizando a base\n",
    "test_df.head(3)"
   ]
  },
  {
   "cell_type": "code",
   "execution_count": 31,
   "id": "eadab728-45e8-4556-ae99-7b9925e6754f",
   "metadata": {},
   "outputs": [
    {
     "data": {
      "text/plain": [
       "FoodCourt       106\n",
       "Spa             101\n",
       "Cabin           100\n",
       "ShoppingMall     98\n",
       "Name             94\n",
       "CryoSleep        93\n",
       "VIP              93\n",
       "Destination      92\n",
       "Age              91\n",
       "HomePlanet       87\n",
       "RoomService      82\n",
       "VRDeck           80\n",
       "PassengerId       0\n",
       "dtype: int64"
      ]
     },
     "execution_count": 31,
     "metadata": {},
     "output_type": "execute_result"
    }
   ],
   "source": [
    "# Verificando os dados nulos\n",
    "test_df.isnull().sum().sort_values(ascending=False)"
   ]
  },
  {
   "cell_type": "code",
   "execution_count": 32,
   "id": "b70b7311-3a8c-46c9-85f4-ce2c1cc56f1e",
   "metadata": {},
   "outputs": [
    {
     "name": "stdout",
     "output_type": "stream",
     "text": [
      "<class 'pandas.core.frame.DataFrame'>\n",
      "RangeIndex: 4277 entries, 0 to 4276\n",
      "Data columns (total 13 columns):\n",
      " #   Column        Non-Null Count  Dtype  \n",
      "---  ------        --------------  -----  \n",
      " 0   PassengerId   4277 non-null   object \n",
      " 1   HomePlanet    4190 non-null   object \n",
      " 2   CryoSleep     4184 non-null   object \n",
      " 3   Cabin         4177 non-null   object \n",
      " 4   Destination   4185 non-null   object \n",
      " 5   Age           4186 non-null   float64\n",
      " 6   VIP           4184 non-null   object \n",
      " 7   RoomService   4195 non-null   float64\n",
      " 8   FoodCourt     4171 non-null   float64\n",
      " 9   ShoppingMall  4179 non-null   float64\n",
      " 10  Spa           4176 non-null   float64\n",
      " 11  VRDeck        4197 non-null   float64\n",
      " 12  Name          4183 non-null   object \n",
      "dtypes: float64(6), object(7)\n",
      "memory usage: 434.5+ KB\n"
     ]
    }
   ],
   "source": [
    "# Olhando as informações\n",
    "test_df.info()"
   ]
  },
  {
   "cell_type": "code",
   "execution_count": 33,
   "id": "f2febbb6-edfa-4010-88f7-0c4ffa4ffa79",
   "metadata": {},
   "outputs": [],
   "source": [
    "# Aqui, vamos apenas repetir todo o tratamento ocorrido em train_df\n",
    "test_df[\"Age\"] = test_df[\"Age\"].fillna(test_df[\"Age\"].mean())\n",
    "test_df = test_df.drop([\"Name\"],axis=1)\n",
    "test_df[\"VIP\"] = test_df[\"VIP\"].fillna(False)\n",
    "test_df[\"HomePlanet\"] = test_df[\"HomePlanet\"].fillna(test_df[\"HomePlanet\"].mode()[0])\n",
    "test_df[\"Destination\"] = test_df[\"Destination\"].fillna(test_df[\"Destination\"].mode()[0])\n",
    "test_df[\"Cabin\"] = test_df[\"Cabin\"].fillna(test_df[\"Cabin\"].mode()[0])\n",
    "test_df[\"CryoSleep\"] = test_df[\"CryoSleep\"].fillna(False)\n",
    "test_df[\"ShoppingMall\"] = test_df[\"ShoppingMall\"].fillna(test_df[\"ShoppingMall\"].mean())\n",
    "test_df[\"FoodCourt\"] = test_df[\"FoodCourt\"].fillna(test_df[\"FoodCourt\"].mean())\n",
    "test_df[\"VRDeck\"] = test_df[\"VRDeck\"].fillna(test_df[\"VRDeck\"].mean())\n",
    "test_df[\"Spa\"] = test_df[\"Spa\"].fillna(test_df[\"Spa\"].mean())\n",
    "test_df[\"RoomService\"] = test_df[\"RoomService\"].fillna(test_df[\"RoomService\"].mean())"
   ]
  },
  {
   "cell_type": "code",
   "execution_count": 34,
   "id": "ac8e466e-6b94-4d6e-add5-4fa6b9290e80",
   "metadata": {},
   "outputs": [
    {
     "data": {
      "text/plain": [
       "PassengerId     0\n",
       "HomePlanet      0\n",
       "CryoSleep       0\n",
       "Cabin           0\n",
       "Destination     0\n",
       "Age             0\n",
       "VIP             0\n",
       "RoomService     0\n",
       "FoodCourt       0\n",
       "ShoppingMall    0\n",
       "Spa             0\n",
       "VRDeck          0\n",
       "dtype: int64"
      ]
     },
     "execution_count": 34,
     "metadata": {},
     "output_type": "execute_result"
    }
   ],
   "source": [
    "# Verificando os dados nulos\n",
    "test_df.isnull().sum().sort_values(ascending=False)"
   ]
  },
  {
   "cell_type": "markdown",
   "id": "86c2b95f-c24b-4dbe-b422-ea9b7e4e08e6",
   "metadata": {},
   "source": [
    "### Preparação para a criação do modelo"
   ]
  },
  {
   "cell_type": "markdown",
   "id": "2c0fba9a-6ffb-4d8d-9e9b-590ee99e290d",
   "metadata": {},
   "source": [
    "#### Tratando colunas booleanas"
   ]
  },
  {
   "cell_type": "code",
   "execution_count": 35,
   "id": "3b2ab742-ad2a-4020-bb2c-6c46301e4f9c",
   "metadata": {},
   "outputs": [
    {
     "data": {
      "text/plain": [
       "Index(['CryoSleep', 'VIP', 'Transported'], dtype='object')"
      ]
     },
     "execution_count": 35,
     "metadata": {},
     "output_type": "execute_result"
    }
   ],
   "source": [
    "# Selecionando as colunas em treino\n",
    "train_bool_columns = train_df.columns[train_df.dtypes == 'bool']\n",
    "train_bool_columns"
   ]
  },
  {
   "cell_type": "code",
   "execution_count": 36,
   "id": "516a5ac6-8a6f-462b-ba26-2608bad0f6a1",
   "metadata": {},
   "outputs": [
    {
     "data": {
      "text/plain": [
       "Index(['CryoSleep', 'VIP'], dtype='object')"
      ]
     },
     "execution_count": 36,
     "metadata": {},
     "output_type": "execute_result"
    }
   ],
   "source": [
    "# Selecionando as colunas em teste\n",
    "test_bool_columns = test_df.columns[test_df.dtypes == 'bool']\n",
    "test_bool_columns"
   ]
  },
  {
   "cell_type": "code",
   "execution_count": 37,
   "id": "1b00fa80-a661-4c56-b848-48cb34bebbaa",
   "metadata": {},
   "outputs": [],
   "source": [
    "# Utilizando o método replace para substituir false para 0, e true para 1\n",
    "train_df[train_bool_columns] = train_df[train_bool_columns].replace({False: 0, True: 1})\n",
    "test_df[test_bool_columns] = test_df[test_bool_columns].replace({False: 0, True: 1})"
   ]
  },
  {
   "cell_type": "markdown",
   "id": "9d3e4a0b-1683-4d45-aac1-a96db6cac879",
   "metadata": {},
   "source": [
    "#### Separando colunas numéricas das não numéricas"
   ]
  },
  {
   "cell_type": "code",
   "execution_count": 38,
   "id": "1d65da76-1b94-456e-9996-d82e8fc30aca",
   "metadata": {},
   "outputs": [],
   "source": [
    "# para a base de treino\n",
    "nr_1 = train_df.columns[train_df.dtypes != 'object']"
   ]
  },
  {
   "cell_type": "code",
   "execution_count": 39,
   "id": "da4a0ecb-5694-4604-9166-ffdd1413e2db",
   "metadata": {},
   "outputs": [],
   "source": [
    "# para a base de teste\n",
    "nr_2 = test_df.columns[test_df.dtypes != 'object']"
   ]
  },
  {
   "cell_type": "markdown",
   "id": "d8c8d69f-d150-47d6-8ad8-7bef536eac66",
   "metadata": {},
   "source": [
    "#### Criando novos DataFrames"
   ]
  },
  {
   "cell_type": "code",
   "execution_count": 40,
   "id": "66bbc9c6-48d0-414c-a404-c6bf048f0936",
   "metadata": {},
   "outputs": [
    {
     "data": {
      "text/html": [
       "<div>\n",
       "<style scoped>\n",
       "    .dataframe tbody tr th:only-of-type {\n",
       "        vertical-align: middle;\n",
       "    }\n",
       "\n",
       "    .dataframe tbody tr th {\n",
       "        vertical-align: top;\n",
       "    }\n",
       "\n",
       "    .dataframe thead th {\n",
       "        text-align: right;\n",
       "    }\n",
       "</style>\n",
       "<table border=\"1\" class=\"dataframe\">\n",
       "  <thead>\n",
       "    <tr style=\"text-align: right;\">\n",
       "      <th></th>\n",
       "      <th>CryoSleep</th>\n",
       "      <th>Age</th>\n",
       "      <th>VIP</th>\n",
       "      <th>RoomService</th>\n",
       "      <th>FoodCourt</th>\n",
       "      <th>ShoppingMall</th>\n",
       "      <th>Spa</th>\n",
       "      <th>VRDeck</th>\n",
       "      <th>Transported</th>\n",
       "      <th>PassengerId</th>\n",
       "    </tr>\n",
       "  </thead>\n",
       "  <tbody>\n",
       "    <tr>\n",
       "      <th>0</th>\n",
       "      <td>0</td>\n",
       "      <td>39.0</td>\n",
       "      <td>0</td>\n",
       "      <td>0.0</td>\n",
       "      <td>0.0</td>\n",
       "      <td>0.0</td>\n",
       "      <td>0.0</td>\n",
       "      <td>0.0</td>\n",
       "      <td>0</td>\n",
       "      <td>0001_01</td>\n",
       "    </tr>\n",
       "    <tr>\n",
       "      <th>1</th>\n",
       "      <td>0</td>\n",
       "      <td>24.0</td>\n",
       "      <td>0</td>\n",
       "      <td>109.0</td>\n",
       "      <td>9.0</td>\n",
       "      <td>25.0</td>\n",
       "      <td>549.0</td>\n",
       "      <td>44.0</td>\n",
       "      <td>1</td>\n",
       "      <td>0002_01</td>\n",
       "    </tr>\n",
       "  </tbody>\n",
       "</table>\n",
       "</div>"
      ],
      "text/plain": [
       "   CryoSleep   Age  VIP  RoomService  FoodCourt  ShoppingMall    Spa  VRDeck  \\\n",
       "0          0  39.0    0          0.0        0.0           0.0    0.0     0.0   \n",
       "1          0  24.0    0        109.0        9.0          25.0  549.0    44.0   \n",
       "\n",
       "   Transported PassengerId  \n",
       "0            0     0001_01  \n",
       "1            1     0002_01  "
      ]
     },
     "execution_count": 40,
     "metadata": {},
     "output_type": "execute_result"
    }
   ],
   "source": [
    "# para a base de treino\n",
    "train_df2 = train_df.loc[:, nr_1]\n",
    "train_df2['PassengerId'] = train_df['PassengerId']\n",
    "train_df2.head(2)"
   ]
  },
  {
   "cell_type": "code",
   "execution_count": 41,
   "id": "e159618c-6f49-4225-b531-a8aa728a8eb5",
   "metadata": {},
   "outputs": [
    {
     "data": {
      "text/html": [
       "<div>\n",
       "<style scoped>\n",
       "    .dataframe tbody tr th:only-of-type {\n",
       "        vertical-align: middle;\n",
       "    }\n",
       "\n",
       "    .dataframe tbody tr th {\n",
       "        vertical-align: top;\n",
       "    }\n",
       "\n",
       "    .dataframe thead th {\n",
       "        text-align: right;\n",
       "    }\n",
       "</style>\n",
       "<table border=\"1\" class=\"dataframe\">\n",
       "  <thead>\n",
       "    <tr style=\"text-align: right;\">\n",
       "      <th></th>\n",
       "      <th>CryoSleep</th>\n",
       "      <th>Age</th>\n",
       "      <th>VIP</th>\n",
       "      <th>RoomService</th>\n",
       "      <th>FoodCourt</th>\n",
       "      <th>ShoppingMall</th>\n",
       "      <th>Spa</th>\n",
       "      <th>VRDeck</th>\n",
       "      <th>PassengerId</th>\n",
       "    </tr>\n",
       "  </thead>\n",
       "  <tbody>\n",
       "    <tr>\n",
       "      <th>0</th>\n",
       "      <td>1</td>\n",
       "      <td>27.0</td>\n",
       "      <td>0</td>\n",
       "      <td>0.0</td>\n",
       "      <td>0.0</td>\n",
       "      <td>0.0</td>\n",
       "      <td>0.0</td>\n",
       "      <td>0.0</td>\n",
       "      <td>0013_01</td>\n",
       "    </tr>\n",
       "    <tr>\n",
       "      <th>1</th>\n",
       "      <td>0</td>\n",
       "      <td>19.0</td>\n",
       "      <td>0</td>\n",
       "      <td>0.0</td>\n",
       "      <td>9.0</td>\n",
       "      <td>0.0</td>\n",
       "      <td>2823.0</td>\n",
       "      <td>0.0</td>\n",
       "      <td>0018_01</td>\n",
       "    </tr>\n",
       "  </tbody>\n",
       "</table>\n",
       "</div>"
      ],
      "text/plain": [
       "   CryoSleep   Age  VIP  RoomService  FoodCourt  ShoppingMall     Spa  VRDeck  \\\n",
       "0          1  27.0    0          0.0        0.0           0.0     0.0     0.0   \n",
       "1          0  19.0    0          0.0        9.0           0.0  2823.0     0.0   \n",
       "\n",
       "  PassengerId  \n",
       "0     0013_01  \n",
       "1     0018_01  "
      ]
     },
     "execution_count": 41,
     "metadata": {},
     "output_type": "execute_result"
    }
   ],
   "source": [
    "# para a base de teste\n",
    "test_df2 = test_df.loc[:, nr_2]\n",
    "test_df2['PassengerId'] = test_df['PassengerId']\n",
    "test_df2.head(2)"
   ]
  },
  {
   "cell_type": "markdown",
   "id": "0ad11b9f-286d-4017-8da1-6a5e10c51bc0",
   "metadata": {},
   "source": [
    "#### Separando a base de treino em *treino* e *validação*\n",
    "##### Usaremos o train_test_split para isso\n",
    "##### Documentação: https://scikit-learn.org/stable/modules/generated/sklearn.model_selection.train_test_split.html"
   ]
  },
  {
   "cell_type": "code",
   "execution_count": 42,
   "id": "9f2b6dde-47a5-438e-ac64-d7d73dbec778",
   "metadata": {},
   "outputs": [],
   "source": [
    "# Importando pelo sklearn\n",
    "from sklearn.model_selection import train_test_split"
   ]
  },
  {
   "cell_type": "code",
   "execution_count": 43,
   "id": "92e56b25-1b11-4e71-8d71-82a0813a1120",
   "metadata": {},
   "outputs": [],
   "source": [
    "# Definindo X e y na base de treino\n",
    "X = train_df2.drop([\"PassengerId\", \"Transported\"], axis=1)\n",
    "y = train_df[\"Transported\"]"
   ]
  },
  {
   "cell_type": "code",
   "execution_count": 44,
   "id": "66fae55e-ec06-4e69-bcb5-3a0dc8e0619d",
   "metadata": {},
   "outputs": [],
   "source": [
    "X_train, X_val, y_train, y_val = train_test_split(X, y, test_size=0.33, random_state=42)"
   ]
  },
  {
   "cell_type": "markdown",
   "id": "5d7fda0b-27c8-4159-a850-7f3f619114c7",
   "metadata": {},
   "source": [
    "#### 1. Regressão logística\n",
    "##### Documentação: https://scikit-learn.org/stable/modules/generated/sklearn.linear_model.LogisticRegression.html"
   ]
  },
  {
   "cell_type": "code",
   "execution_count": 45,
   "id": "0301e292-6c28-4a7f-a917-1d92c913f8b2",
   "metadata": {},
   "outputs": [],
   "source": [
    "# Importando pelo sklearn\n",
    "from sklearn.linear_model import LogisticRegression"
   ]
  },
  {
   "cell_type": "code",
   "execution_count": 46,
   "id": "beed09c4-3552-4c61-90cf-d460bc125de9",
   "metadata": {},
   "outputs": [],
   "source": [
    "# Criando o regressor e fazendo o fit\n",
    "clf_rl = LogisticRegression(random_state=0).fit(X_train, y_train)"
   ]
  },
  {
   "cell_type": "code",
   "execution_count": 48,
   "id": "0c88484e-6e6e-4432-9d19-8df32e656606",
   "metadata": {},
   "outputs": [],
   "source": [
    "# Realizando a previsão\n",
    "y_clf = clf_rl.predict(X_val)"
   ]
  },
  {
   "cell_type": "markdown",
   "id": "7d721150-60bf-4ef7-a92b-e62d7f92c360",
   "metadata": {},
   "source": [
    "#### 2. KNN - KNeighborsClassifier\n",
    "##### Documentação: https://scikit-learn.org/stable/modules/generated/sklearn.neighbors.KNeighborsClassifier.html"
   ]
  },
  {
   "cell_type": "code",
   "execution_count": 49,
   "id": "dbb81135-9096-4c34-b91f-6abb4e2370b1",
   "metadata": {},
   "outputs": [],
   "source": [
    "# Importando pelo sklearn\n",
    "from sklearn.neighbors import KNeighborsClassifier"
   ]
  },
  {
   "cell_type": "code",
   "execution_count": 50,
   "id": "a7961a77-7087-4e2e-a38d-e7fee258550e",
   "metadata": {},
   "outputs": [],
   "source": [
    "# Criando o regressor e fazendo o fit\n",
    "clf_knn = KNeighborsClassifier(n_neighbors=3).fit(X_train, y_train)"
   ]
  },
  {
   "cell_type": "code",
   "execution_count": 51,
   "id": "d627d48f-a0f7-4eb8-a47d-cd5b113aab71",
   "metadata": {},
   "outputs": [],
   "source": [
    "# Realizando a previsão\n",
    "y_clf_knn = clf_knn.predict(X_val)"
   ]
  },
  {
   "cell_type": "markdown",
   "id": "876c7ab8-7464-4809-b538-f826f955f787",
   "metadata": {},
   "source": [
    "#### 3. Random Forests\n",
    "##### Documentação: https://scikit-learn.org/stable/modules/generated/sklearn.ensemble.RandomForestClassifier.html"
   ]
  },
  {
   "cell_type": "code",
   "execution_count": 52,
   "id": "a385b596-715a-40b9-80ca-8ad93329b643",
   "metadata": {},
   "outputs": [],
   "source": [
    "# Importando pelo sklearn\n",
    "from sklearn.ensemble import RandomForestClassifier"
   ]
  },
  {
   "cell_type": "code",
   "execution_count": 53,
   "id": "6b6f2b7f-2f96-483f-ba7b-41df4b6e3be0",
   "metadata": {},
   "outputs": [],
   "source": [
    "# Criando o regressor e fazendo o fit\n",
    "clf_rf = RandomForestClassifier(max_depth=2, random_state=0).fit(X_train, y_train)"
   ]
  },
  {
   "cell_type": "code",
   "execution_count": 54,
   "id": "a7448298-389b-4555-9c3f-c2ed3baab739",
   "metadata": {},
   "outputs": [],
   "source": [
    "# Realizando a previsão\n",
    "y_clf_rf = clf_rf.predict(X_val)"
   ]
  },
  {
   "cell_type": "markdown",
   "id": "8dd61065-cfe4-4153-9a89-53f4856fcc14",
   "metadata": {},
   "source": [
    "### Cálculo da acurácia para cada um dos modelos\n",
    "##### Documentação: https://scikit-learn.org/stable/modules/generated/sklearn.metrics.accuracy_score.html"
   ]
  },
  {
   "cell_type": "code",
   "execution_count": 55,
   "id": "7f389d84-922b-4b36-abe5-5ed1eb63b2ec",
   "metadata": {},
   "outputs": [],
   "source": [
    "# Importando pelo sklearn\n",
    "from sklearn.metrics import accuracy_score"
   ]
  },
  {
   "cell_type": "code",
   "execution_count": 56,
   "id": "07918617-1e2c-4fbe-a5b7-7f4139b25685",
   "metadata": {},
   "outputs": [
    {
     "data": {
      "text/plain": [
       "0.766120599512025"
      ]
     },
     "execution_count": 56,
     "metadata": {},
     "output_type": "execute_result"
    }
   ],
   "source": [
    "# Acurácia para regressão logística\n",
    "accuracy_score(y_val, y_clf)"
   ]
  },
  {
   "cell_type": "code",
   "execution_count": 57,
   "id": "840a9902-f268-4f5c-8494-3a8feccd01e8",
   "metadata": {},
   "outputs": [
    {
     "data": {
      "text/plain": [
       "0.753224119902405"
      ]
     },
     "execution_count": 57,
     "metadata": {},
     "output_type": "execute_result"
    }
   ],
   "source": [
    "# Acurácia para knn\n",
    "accuracy_score(y_val, y_clf_knn)"
   ]
  },
  {
   "cell_type": "code",
   "execution_count": 58,
   "id": "d5248ce6-6a9c-421e-a3d4-9353d3d2d87f",
   "metadata": {},
   "outputs": [
    {
     "data": {
      "text/plain": [
       "0.7385848727779715"
      ]
     },
     "execution_count": 58,
     "metadata": {},
     "output_type": "execute_result"
    }
   ],
   "source": [
    "# Acurácia para random forest\n",
    "accuracy_score(y_val, y_clf_rf)"
   ]
  },
  {
   "cell_type": "code",
   "execution_count": 59,
   "id": "fa9c8054-46de-4167-95bd-ebc4c4f48002",
   "metadata": {},
   "outputs": [
    {
     "data": {
      "text/html": [
       "<div>\n",
       "<style scoped>\n",
       "    .dataframe tbody tr th:only-of-type {\n",
       "        vertical-align: middle;\n",
       "    }\n",
       "\n",
       "    .dataframe tbody tr th {\n",
       "        vertical-align: top;\n",
       "    }\n",
       "\n",
       "    .dataframe thead th {\n",
       "        text-align: right;\n",
       "    }\n",
       "</style>\n",
       "<table border=\"1\" class=\"dataframe\">\n",
       "  <thead>\n",
       "    <tr style=\"text-align: right;\">\n",
       "      <th></th>\n",
       "      <th>CryoSleep</th>\n",
       "      <th>Age</th>\n",
       "      <th>VIP</th>\n",
       "      <th>RoomService</th>\n",
       "      <th>FoodCourt</th>\n",
       "      <th>ShoppingMall</th>\n",
       "      <th>Spa</th>\n",
       "      <th>VRDeck</th>\n",
       "    </tr>\n",
       "  </thead>\n",
       "  <tbody>\n",
       "    <tr>\n",
       "      <th>4696</th>\n",
       "      <td>0</td>\n",
       "      <td>35.0</td>\n",
       "      <td>0</td>\n",
       "      <td>1337.0</td>\n",
       "      <td>49.0</td>\n",
       "      <td>57.0</td>\n",
       "      <td>0.0</td>\n",
       "      <td>0.0</td>\n",
       "    </tr>\n",
       "    <tr>\n",
       "      <th>5946</th>\n",
       "      <td>0</td>\n",
       "      <td>28.0</td>\n",
       "      <td>0</td>\n",
       "      <td>0.0</td>\n",
       "      <td>152.0</td>\n",
       "      <td>215.0</td>\n",
       "      <td>30.0</td>\n",
       "      <td>510.0</td>\n",
       "    </tr>\n",
       "    <tr>\n",
       "      <th>227</th>\n",
       "      <td>1</td>\n",
       "      <td>43.0</td>\n",
       "      <td>0</td>\n",
       "      <td>0.0</td>\n",
       "      <td>0.0</td>\n",
       "      <td>0.0</td>\n",
       "      <td>0.0</td>\n",
       "      <td>0.0</td>\n",
       "    </tr>\n",
       "  </tbody>\n",
       "</table>\n",
       "</div>"
      ],
      "text/plain": [
       "      CryoSleep   Age  VIP  RoomService  FoodCourt  ShoppingMall   Spa  VRDeck\n",
       "4696          0  35.0    0       1337.0       49.0          57.0   0.0     0.0\n",
       "5946          0  28.0    0          0.0      152.0         215.0  30.0   510.0\n",
       "227           1  43.0    0          0.0        0.0           0.0   0.0     0.0"
      ]
     },
     "execution_count": 59,
     "metadata": {},
     "output_type": "execute_result"
    }
   ],
   "source": [
    "# Vizualizando X_train\n",
    "X_train.head(3)"
   ]
  },
  {
   "cell_type": "code",
   "execution_count": 60,
   "id": "b370f244-19b0-468c-b6a6-ce50c8adc861",
   "metadata": {},
   "outputs": [
    {
     "data": {
      "text/html": [
       "<div>\n",
       "<style scoped>\n",
       "    .dataframe tbody tr th:only-of-type {\n",
       "        vertical-align: middle;\n",
       "    }\n",
       "\n",
       "    .dataframe tbody tr th {\n",
       "        vertical-align: top;\n",
       "    }\n",
       "\n",
       "    .dataframe thead th {\n",
       "        text-align: right;\n",
       "    }\n",
       "</style>\n",
       "<table border=\"1\" class=\"dataframe\">\n",
       "  <thead>\n",
       "    <tr style=\"text-align: right;\">\n",
       "      <th></th>\n",
       "      <th>CryoSleep</th>\n",
       "      <th>Age</th>\n",
       "      <th>VIP</th>\n",
       "      <th>RoomService</th>\n",
       "      <th>FoodCourt</th>\n",
       "      <th>ShoppingMall</th>\n",
       "      <th>Spa</th>\n",
       "      <th>VRDeck</th>\n",
       "      <th>PassengerId</th>\n",
       "    </tr>\n",
       "  </thead>\n",
       "  <tbody>\n",
       "    <tr>\n",
       "      <th>0</th>\n",
       "      <td>1</td>\n",
       "      <td>27.0</td>\n",
       "      <td>0</td>\n",
       "      <td>0.0</td>\n",
       "      <td>0.0</td>\n",
       "      <td>0.0</td>\n",
       "      <td>0.0</td>\n",
       "      <td>0.0</td>\n",
       "      <td>0013_01</td>\n",
       "    </tr>\n",
       "    <tr>\n",
       "      <th>1</th>\n",
       "      <td>0</td>\n",
       "      <td>19.0</td>\n",
       "      <td>0</td>\n",
       "      <td>0.0</td>\n",
       "      <td>9.0</td>\n",
       "      <td>0.0</td>\n",
       "      <td>2823.0</td>\n",
       "      <td>0.0</td>\n",
       "      <td>0018_01</td>\n",
       "    </tr>\n",
       "    <tr>\n",
       "      <th>2</th>\n",
       "      <td>1</td>\n",
       "      <td>31.0</td>\n",
       "      <td>0</td>\n",
       "      <td>0.0</td>\n",
       "      <td>0.0</td>\n",
       "      <td>0.0</td>\n",
       "      <td>0.0</td>\n",
       "      <td>0.0</td>\n",
       "      <td>0019_01</td>\n",
       "    </tr>\n",
       "  </tbody>\n",
       "</table>\n",
       "</div>"
      ],
      "text/plain": [
       "   CryoSleep   Age  VIP  RoomService  FoodCourt  ShoppingMall     Spa  VRDeck  \\\n",
       "0          1  27.0    0          0.0        0.0           0.0     0.0     0.0   \n",
       "1          0  19.0    0          0.0        9.0           0.0  2823.0     0.0   \n",
       "2          1  31.0    0          0.0        0.0           0.0     0.0     0.0   \n",
       "\n",
       "  PassengerId  \n",
       "0     0013_01  \n",
       "1     0018_01  \n",
       "2     0019_01  "
      ]
     },
     "execution_count": 60,
     "metadata": {},
     "output_type": "execute_result"
    }
   ],
   "source": [
    "# Vizualizando test_df2\n",
    "test_df2.head(3)"
   ]
  },
  {
   "cell_type": "code",
   "execution_count": 61,
   "id": "8a096734-3f9c-4247-9f8c-c413f6353fc7",
   "metadata": {},
   "outputs": [],
   "source": [
    "# Removemos o \"PassengerId\" para test_df2 ficar igual ao X_train\n",
    "X_test = test_df2.drop([\"PassengerId\"], axis=1)"
   ]
  },
  {
   "cell_type": "code",
   "execution_count": 62,
   "id": "299d8dae-220d-499e-8404-0b150d94484c",
   "metadata": {},
   "outputs": [],
   "source": [
    "# Realizando a previsão\n",
    "y_pred = clf_rl.predict(X_test)"
   ]
  },
  {
   "cell_type": "code",
   "execution_count": 63,
   "id": "33f7e61b-fc51-44ce-bd80-79856c0a8313",
   "metadata": {},
   "outputs": [],
   "source": [
    "# Selecionando a coluna \"Transported\"\n",
    "test_df[\"Transported\"] = y_pred"
   ]
  },
  {
   "cell_type": "code",
   "execution_count": 64,
   "id": "41499eff-c20f-4d9d-84da-836e92a5769e",
   "metadata": {},
   "outputs": [],
   "source": [
    "# Trocando 0 para false e 1 para true\n",
    "test_df[\"Transported\"] = test_df[\"Transported\"].replace({0: False, 1: True})"
   ]
  },
  {
   "cell_type": "code",
   "execution_count": 65,
   "id": "9057ca02-95ae-4f02-9039-74f9fd9aa405",
   "metadata": {},
   "outputs": [],
   "source": [
    "# Criando o result\n",
    "result = test_df[[\"PassengerId\", \"Transported\"]]"
   ]
  },
  {
   "cell_type": "code",
   "execution_count": 66,
   "id": "84969226-9bd6-471d-9f3d-01f11e0e4ae6",
   "metadata": {},
   "outputs": [],
   "source": [
    "# Exportando para o kaggle\n",
    "result.to_csv(\"result.csv\", index=False)"
   ]
  }
 ],
 "metadata": {
  "kernelspec": {
   "display_name": "Python 3 (ipykernel)",
   "language": "python",
   "name": "python3"
  },
  "language_info": {
   "codemirror_mode": {
    "name": "ipython",
    "version": 3
   },
   "file_extension": ".py",
   "mimetype": "text/x-python",
   "name": "python",
   "nbconvert_exporter": "python",
   "pygments_lexer": "ipython3",
   "version": "3.11.7"
  },
  "widgets": {
   "application/vnd.jupyter.widget-state+json": {
    "state": {},
    "version_major": 2,
    "version_minor": 0
   }
  }
 },
 "nbformat": 4,
 "nbformat_minor": 5
}
